{
 "cells": [
  {
   "cell_type": "code",
   "execution_count": 8,
   "id": "ffda44ee-58d8-463f-b563-74539318beb8",
   "metadata": {},
   "outputs": [],
   "source": [
    "\n",
    "#In this activity, you are tasked with creating a Python script for analyzing the financial records of your company. You will be provided with a financial dataset in this file: [budget_data.csv](PyBank/Resources/budget_data.csv). This dataset is composed of two columns, Date and Profit/Losses. (Thankfully, your company has rather lax standards for accounting, so the records are simple.)\n",
    "\n",
    "#Your task is to create a Python script that analyzes the records to calculate each of the following:\n",
    "\n",
    "#* The total number of months included in the dataset.\n",
    "\n",
    "#* The net total amount of Profit/Losses over the entire period.\n",
    "\n",
    "#* The average of the changes in Profit/Losses over the entire period.\n",
    "\n",
    "#* The greatest increase in profits (date and amount) over the entire period.\n",
    "\n",
    "#* The greatest decrease in losses (date and amount) over the entire period.\n",
    " # ```text\n",
    "  #Financial Analysis\n",
    "  #----------------------------\n",
    "  #Total Months: 86\n",
    "  #Total: $38382578\n",
    "  #Average  Change: $-2315.12\n",
    "  #Greatest Increase in Profits: Feb-2012 ($1926159)\n",
    "  #Greatest Decrease in Profits: Sep-2013 ($-2196167)"
   ]
  },
  {
   "cell_type": "code",
   "execution_count": 10,
   "id": "c1ddb87a-3e80-4560-8d99-274abc2c439c",
   "metadata": {},
   "outputs": [],
   "source": [
    "from pathlib import Path\n",
    "import csv"
   ]
  },
  {
   "cell_type": "code",
   "execution_count": 11,
   "id": "ead0bb3e-9696-4a03-afec-4b72247b725a",
   "metadata": {},
   "outputs": [],
   "source": [
    "filepath = Path(\"../Instructions/PyBank/Resources/budget_data.csv\")"
   ]
  },
  {
   "cell_type": "code",
   "execution_count": 12,
   "id": "8a0e9e03-e147-4d17-b54e-6de1c176fa2e",
   "metadata": {},
   "outputs": [],
   "source": [
    "total_months = 0\n",
    "total_net = 0\n",
    "profit_loss =[]\n",
    "date = []\n",
    "average_change = []\n",
    "greatest_increase_in_profits = []\n",
    "greatest_decrease_in_losses = []\n"
   ]
  },
  {
   "cell_type": "code",
   "execution_count": 16,
   "id": "ae9aae40-0e18-4479-be01-abc8a9c37914",
   "metadata": {},
   "outputs": [
    {
     "ename": "TypeError",
     "evalue": "can only concatenate list (not \"int\") to list",
     "output_type": "error",
     "traceback": [
      "\u001b[0;31m---------------------------------------------------------------------------\u001b[0m",
      "\u001b[0;31mTypeError\u001b[0m                                 Traceback (most recent call last)",
      "\u001b[0;32m/var/folders/d3/zhlv7h4167b7496bj0z9qfn00000gn/T/ipykernel_7239/3593436971.py\u001b[0m in \u001b[0;36m<module>\u001b[0;34m\u001b[0m\n\u001b[1;32m      4\u001b[0m \u001b[0;34m\u001b[0m\u001b[0m\n\u001b[1;32m      5\u001b[0m     \u001b[0;32mfor\u001b[0m \u001b[0mrow\u001b[0m \u001b[0;32min\u001b[0m \u001b[0mcsvreader\u001b[0m\u001b[0;34m:\u001b[0m\u001b[0;34m\u001b[0m\u001b[0;34m\u001b[0m\u001b[0m\n\u001b[0;32m----> 6\u001b[0;31m         \u001b[0mtotal_months\u001b[0m \u001b[0;34m=\u001b[0m \u001b[0mtotal_months\u001b[0m \u001b[0;34m+\u001b[0m \u001b[0;36m1\u001b[0m\u001b[0;34m\u001b[0m\u001b[0;34m\u001b[0m\u001b[0m\n\u001b[0m\u001b[1;32m      7\u001b[0m \u001b[0;34m\u001b[0m\u001b[0m\n\u001b[1;32m      8\u001b[0m         \u001b[0mdate\u001b[0m\u001b[0;34m.\u001b[0m\u001b[0mappend\u001b[0m\u001b[0;34m(\u001b[0m\u001b[0mrow\u001b[0m\u001b[0;34m[\u001b[0m\u001b[0;36m0\u001b[0m\u001b[0;34m]\u001b[0m\u001b[0;34m)\u001b[0m\u001b[0;34m\u001b[0m\u001b[0;34m\u001b[0m\u001b[0m\n",
      "\u001b[0;31mTypeError\u001b[0m: can only concatenate list (not \"int\") to list"
     ]
    }
   ],
   "source": [
    "with open(filepath,newline='') as file:\n",
    "    csvreader = csv.reader(file,delimiter=',')\n",
    "    header = next(csvreader)\n",
    "   \n",
    "    for row in csvreader:\n",
    "        #* The total number of months included in the dataset.\n",
    "        total_months = total_months + 1\n",
    "        \n",
    "        date.append(row[0])\n",
    "        \n",
    "       #* The net total amount of Profit/Losses over the entire period. \n",
    "        profit_loss.append(row[1])\n",
    "        total_net = total_net + int(first_row[1])\n",
    "        \n",
    "       #* The average of the changes in Profit/Losses over the entire period.\n",
    "        \n",
    "        \n"
   ]
  },
  {
   "cell_type": "code",
   "execution_count": null,
   "id": "aac569fe-14a9-405c-984d-f28934408806",
   "metadata": {},
   "outputs": [],
   "source": []
  }
 ],
 "metadata": {
  "kernelspec": {
   "display_name": "Python 3 (ipykernel)",
   "language": "python",
   "name": "python3"
  },
  "language_info": {
   "codemirror_mode": {
    "name": "ipython",
    "version": 3
   },
   "file_extension": ".py",
   "mimetype": "text/x-python",
   "name": "python",
   "nbconvert_exporter": "python",
   "pygments_lexer": "ipython3",
   "version": "3.7.11"
  }
 },
 "nbformat": 4,
 "nbformat_minor": 5
}

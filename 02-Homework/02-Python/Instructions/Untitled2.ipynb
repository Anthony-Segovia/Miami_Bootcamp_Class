{
 "cells": [
  {
   "cell_type": "code",
   "execution_count": 2,
   "id": "87fde471-256b-4843-9e93-f58d7357fe85",
   "metadata": {},
   "outputs": [],
   "source": [
    "list1 = [1,2,3]\n",
    "list2 = [3,2,1]\n",
    "\n",
    "def deep_equals(list1,list2):\n",
    "    list_first = list1;\n",
    "    list_second = list2;\n",
    "    list_first == list_second\n",
    "    return"
   ]
  },
  {
   "cell_type": "code",
   "execution_count": null,
   "id": "58bce955-56e1-4831-a5bf-e9aca28ad476",
   "metadata": {},
   "outputs": [],
   "source": []
  }
 ],
 "metadata": {
  "kernelspec": {
   "display_name": "Python 3 (ipykernel)",
   "language": "python",
   "name": "python3"
  },
  "language_info": {
   "codemirror_mode": {
    "name": "ipython",
    "version": 3
   },
   "file_extension": ".py",
   "mimetype": "text/x-python",
   "name": "python",
   "nbconvert_exporter": "python",
   "pygments_lexer": "ipython3",
   "version": "3.7.11"
  }
 },
 "nbformat": 4,
 "nbformat_minor": 5
}

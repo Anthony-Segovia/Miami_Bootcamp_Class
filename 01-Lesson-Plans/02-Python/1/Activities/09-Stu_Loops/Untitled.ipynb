{
 "cells": [
  {
   "cell_type": "code",
   "execution_count": 1,
   "id": "af3fd9f9-d0aa-4272-b779-d935e0e0cb1b",
   "metadata": {},
   "outputs": [],
   "source": [
    "cheer = \"cheer\"\n"
   ]
  },
  {
   "cell_type": "code",
   "execution_count": 14,
   "id": "185d16ed-39a6-48dd-8b98-3bd431673c2a",
   "metadata": {},
   "outputs": [
    {
     "name": "stdout",
     "output_type": "stream",
     "text": [
      "Give me a c -- c!\n",
      "Give me a h -- h!\n",
      "Give me a e -- e!\n",
      "Give me a e -- e!\n",
      "Give me a r -- r!\n",
      "What's that spell?\n",
      "CHEER !\n"
     ]
    }
   ],
   "source": [
    "for letter in cheer:\n",
    "    print(f'Give me a {letter} -- {letter}!')\n",
    "print(\"What's that spell?\")\n",
    "print(cheer.upper(),'!')"
   ]
  },
  {
   "cell_type": "code",
   "execution_count": null,
   "id": "8d6b8d0d-bbe8-4fa6-a5e9-82ab79b02780",
   "metadata": {},
   "outputs": [],
   "source": []
  }
 ],
 "metadata": {
  "kernelspec": {
   "display_name": "Python 3 (ipykernel)",
   "language": "python",
   "name": "python3"
  },
  "language_info": {
   "codemirror_mode": {
    "name": "ipython",
    "version": 3
   },
   "file_extension": ".py",
   "mimetype": "text/x-python",
   "name": "python",
   "nbconvert_exporter": "python",
   "pygments_lexer": "ipython3",
   "version": "3.7.11"
  }
 },
 "nbformat": 4,
 "nbformat_minor": 5
}

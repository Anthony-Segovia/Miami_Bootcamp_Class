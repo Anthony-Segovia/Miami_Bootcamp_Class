{
 "cells": [
  {
   "cell_type": "code",
   "execution_count": 4,
   "id": "caaa83d7-1395-47d9-9298-727e467bf7ca",
   "metadata": {},
   "outputs": [
    {
     "name": "stdout",
     "output_type": "stream",
     "text": [
      "GOT QUESTION 4!\n"
     ]
    }
   ],
   "source": [
    "x = 2\n",
    "y = 5\n",
    "if (x ** 3 >= y) and (y ** 2 < 26):\n",
    "    print(\"GOT QUESTION 4!\")\n",
    "else:\n",
    "    print(\"Oh good you can count\")\n"
   ]
  },
  {
   "cell_type": "code",
   "execution_count": null,
   "id": "79f67ef8-6893-4bc3-b8aa-2d70eb94112b",
   "metadata": {},
   "outputs": [],
   "source": []
  }
 ],
 "metadata": {
  "kernelspec": {
   "display_name": "Python 3 (ipykernel)",
   "language": "python",
   "name": "python3"
  },
  "language_info": {
   "codemirror_mode": {
    "name": "ipython",
    "version": 3
   },
   "file_extension": ".py",
   "mimetype": "text/x-python",
   "name": "python",
   "nbconvert_exporter": "python",
   "pygments_lexer": "ipython3",
   "version": "3.7.11"
  }
 },
 "nbformat": 4,
 "nbformat_minor": 5
}

{
 "cells": [
  {
   "cell_type": "code",
   "execution_count": 1,
   "metadata": {},
   "outputs": [
    {
     "ename": "ModuleNotFoundError",
     "evalue": "No module named 'hvplot'",
     "output_type": "error",
     "traceback": [
      "\u001b[0;31m---------------------------------------------------------------------------\u001b[0m",
      "\u001b[0;31mModuleNotFoundError\u001b[0m                       Traceback (most recent call last)",
      "\u001b[0;32m/var/folders/d3/zhlv7h4167b7496bj0z9qfn00000gn/T/ipykernel_34573/3617787755.py\u001b[0m in \u001b[0;36m<module>\u001b[0;34m\u001b[0m\n\u001b[1;32m      1\u001b[0m \u001b[0;32mimport\u001b[0m \u001b[0mnumpy\u001b[0m \u001b[0;32mas\u001b[0m \u001b[0mnp\u001b[0m\u001b[0;34m\u001b[0m\u001b[0;34m\u001b[0m\u001b[0m\n\u001b[1;32m      2\u001b[0m \u001b[0;32mimport\u001b[0m \u001b[0mpandas\u001b[0m \u001b[0;32mas\u001b[0m \u001b[0mpd\u001b[0m\u001b[0;34m\u001b[0m\u001b[0;34m\u001b[0m\u001b[0m\n\u001b[0;32m----> 3\u001b[0;31m \u001b[0;32mimport\u001b[0m \u001b[0mhvplot\u001b[0m\u001b[0;34m.\u001b[0m\u001b[0mpandas\u001b[0m\u001b[0;34m\u001b[0m\u001b[0;34m\u001b[0m\u001b[0m\n\u001b[0m",
      "\u001b[0;31mModuleNotFoundError\u001b[0m: No module named 'hvplot'"
     ]
    }
   ],
   "source": [
    "import numpy as np\n",
    "import pandas as pd\n",
    "import hvplot.pandas"
   ]
  },
  {
   "cell_type": "code",
   "execution_count": null,
   "metadata": {},
   "outputs": [],
   "source": [
    "# Data Prep\n",
    "df_idx = pd.date_range(\"1/1/2018\", periods=52)\n",
    "df = pd.DataFrame(\n",
    "    np.random.randn(52, 4), index=df_idx, columns=(\"APPL\", \"GOGLE\", \"AMMD\", \"BCOIN\")\n",
    ").pct_change()"
   ]
  },
  {
   "cell_type": "code",
   "execution_count": null,
   "metadata": {},
   "outputs": [],
   "source": [
    "# Use hvplot() function to plot data\n",
    "df.hvplot()"
   ]
  },
  {
   "cell_type": "code",
   "execution_count": null,
   "metadata": {},
   "outputs": [],
   "source": [
    "# Use hplot.line to create line plot\n",
    "df.hvplot.line(xlabel=\"Year\", ylabel=\"Daily Return\")"
   ]
  },
  {
   "cell_type": "code",
   "execution_count": 5,
   "metadata": {},
   "outputs": [],
   "source": [
    "# Data Prep\n",
    "df = pd.DataFrame(\n",
    "    {\n",
    "        \"ticker\": [\"APPL\", \"GOGLE\", \"AMMD\", \"BCOIN\"],\n",
    "        \"daily_return\": (4.50, 10, 33.0, 55.25),\n",
    "    }\n",
    ")"
   ]
  },
  {
   "cell_type": "code",
   "execution_count": 6,
   "metadata": {},
   "outputs": [
    {
     "data": {
      "application/vnd.holoviews_exec.v0+json": "",
      "text/html": [
       "<div id='2108' style='display: table; margin: 0 auto;'>\n",
       "\n",
       "\n",
       "\n",
       "\n",
       "\n",
       "  <div class=\"bk-root\" id=\"ea19ef26-7d09-4da1-8344-0be26afad439\" data-root-id=\"2108\"></div>\n",
       "</div>\n",
       "<script type=\"application/javascript\">(function(root) {\n",
       "  function embed_document(root) {\n",
       "    \n",
       "  var docs_json = {\"cda807d9-09e0-4563-8865-0f87ff1b60c9\":{\"roots\":{\"references\":[{\"attributes\":{\"below\":[{\"id\":\"2117\",\"type\":\"CategoricalAxis\"}],\"center\":[{\"id\":\"2120\",\"type\":\"Grid\"},{\"id\":\"2125\",\"type\":\"Grid\"}],\"left\":[{\"id\":\"2121\",\"type\":\"LinearAxis\"}],\"margin\":null,\"min_border_bottom\":10,\"min_border_left\":10,\"min_border_right\":10,\"min_border_top\":10,\"plot_height\":300,\"plot_width\":700,\"renderers\":[{\"id\":\"2144\",\"type\":\"GlyphRenderer\"}],\"sizing_mode\":\"fixed\",\"title\":{\"id\":\"2109\",\"type\":\"Title\"},\"toolbar\":{\"id\":\"2131\",\"type\":\"Toolbar\"},\"x_range\":{\"id\":\"2105\",\"type\":\"FactorRange\"},\"x_scale\":{\"id\":\"2113\",\"type\":\"CategoricalScale\"},\"y_range\":{\"id\":\"2106\",\"type\":\"Range1d\"},\"y_scale\":{\"id\":\"2115\",\"type\":\"LinearScale\"}},\"id\":\"2108\",\"subtype\":\"Figure\",\"type\":\"Plot\"},{\"attributes\":{},\"id\":\"2115\",\"type\":\"LinearScale\"},{\"attributes\":{\"axis_label\":\"Ticker\",\"bounds\":\"auto\",\"formatter\":{\"id\":\"2146\",\"type\":\"CategoricalTickFormatter\"},\"major_label_orientation\":1.5707963267948966,\"ticker\":{\"id\":\"2118\",\"type\":\"CategoricalTicker\"}},\"id\":\"2117\",\"type\":\"CategoricalAxis\"},{\"attributes\":{},\"id\":\"2126\",\"type\":\"SaveTool\"},{\"attributes\":{},\"id\":\"2128\",\"type\":\"WheelZoomTool\"},{\"attributes\":{\"text\":\"\",\"text_color\":{\"value\":\"black\"},\"text_font_size\":{\"value\":\"12pt\"}},\"id\":\"2109\",\"type\":\"Title\"},{\"attributes\":{},\"id\":\"2139\",\"type\":\"Selection\"},{\"attributes\":{},\"id\":\"2113\",\"type\":\"CategoricalScale\"},{\"attributes\":{\"dimension\":1,\"grid_line_color\":null,\"ticker\":{\"id\":\"2122\",\"type\":\"BasicTicker\"}},\"id\":\"2125\",\"type\":\"Grid\"},{\"attributes\":{},\"id\":\"2148\",\"type\":\"BasicTickFormatter\"},{\"attributes\":{\"callback\":null,\"data\":{\"daily_return\":{\"__ndarray__\":\"AAAAAAAAEkAAAAAAAAAkQAAAAAAAgEBAAAAAAACgS0A=\",\"dtype\":\"float64\",\"shape\":[4]},\"ticker\":[\"APPL\",\"GOGLE\",\"AMMD\",\"BCOIN\"]},\"selected\":{\"id\":\"2139\",\"type\":\"Selection\"},\"selection_policy\":{\"id\":\"2157\",\"type\":\"UnionRenderers\"}},\"id\":\"2138\",\"type\":\"ColumnDataSource\"},{\"attributes\":{\"callback\":null,\"end\":55.25,\"reset_end\":55.25,\"reset_start\":0.0,\"tags\":[[[\"daily_return\",\"daily_return\",null]]]},\"id\":\"2106\",\"type\":\"Range1d\"},{\"attributes\":{},\"id\":\"2127\",\"type\":\"PanTool\"},{\"attributes\":{},\"id\":\"2146\",\"type\":\"CategoricalTickFormatter\"},{\"attributes\":{\"overlay\":{\"id\":\"2155\",\"type\":\"BoxAnnotation\"}},\"id\":\"2129\",\"type\":\"BoxZoomTool\"},{\"attributes\":{\"callback\":null,\"factors\":[\"APPL\",\"GOGLE\",\"AMMD\",\"BCOIN\"],\"tags\":[[[\"ticker\",\"ticker\",null]]]},\"id\":\"2105\",\"type\":\"FactorRange\"},{\"attributes\":{},\"id\":\"2130\",\"type\":\"ResetTool\"},{\"attributes\":{\"active_drag\":\"auto\",\"active_inspect\":\"auto\",\"active_multi\":null,\"active_scroll\":\"auto\",\"active_tap\":\"auto\",\"tools\":[{\"id\":\"2107\",\"type\":\"HoverTool\"},{\"id\":\"2126\",\"type\":\"SaveTool\"},{\"id\":\"2127\",\"type\":\"PanTool\"},{\"id\":\"2128\",\"type\":\"WheelZoomTool\"},{\"id\":\"2129\",\"type\":\"BoxZoomTool\"},{\"id\":\"2130\",\"type\":\"ResetTool\"}]},\"id\":\"2131\",\"type\":\"Toolbar\"},{\"attributes\":{},\"id\":\"2122\",\"type\":\"BasicTicker\"},{\"attributes\":{\"fill_color\":{\"value\":\"#1f77b4\"},\"top\":{\"field\":\"daily_return\"},\"width\":{\"value\":0.8},\"x\":{\"field\":\"ticker\"}},\"id\":\"2141\",\"type\":\"VBar\"},{\"attributes\":{\"fill_alpha\":{\"value\":0.1},\"fill_color\":{\"value\":\"#1f77b4\"},\"line_alpha\":{\"value\":0.1},\"line_color\":{\"value\":\"black\"},\"top\":{\"field\":\"daily_return\"},\"width\":{\"value\":0.8},\"x\":{\"field\":\"ticker\"}},\"id\":\"2142\",\"type\":\"VBar\"},{\"attributes\":{\"grid_line_color\":null,\"ticker\":{\"id\":\"2118\",\"type\":\"CategoricalTicker\"}},\"id\":\"2120\",\"type\":\"Grid\"},{\"attributes\":{\"fill_alpha\":{\"value\":0.2},\"fill_color\":{\"value\":\"#1f77b4\"},\"line_alpha\":{\"value\":0.2},\"line_color\":{\"value\":\"black\"},\"top\":{\"field\":\"daily_return\"},\"width\":{\"value\":0.8},\"x\":{\"field\":\"ticker\"}},\"id\":\"2143\",\"type\":\"VBar\"},{\"attributes\":{\"axis_label\":\"Daily Return\",\"bounds\":\"auto\",\"formatter\":{\"id\":\"2148\",\"type\":\"BasicTickFormatter\"},\"major_label_orientation\":\"horizontal\",\"ticker\":{\"id\":\"2122\",\"type\":\"BasicTicker\"}},\"id\":\"2121\",\"type\":\"LinearAxis\"},{\"attributes\":{},\"id\":\"2157\",\"type\":\"UnionRenderers\"},{\"attributes\":{\"data_source\":{\"id\":\"2138\",\"type\":\"ColumnDataSource\"},\"glyph\":{\"id\":\"2141\",\"type\":\"VBar\"},\"hover_glyph\":null,\"muted_glyph\":{\"id\":\"2143\",\"type\":\"VBar\"},\"nonselection_glyph\":{\"id\":\"2142\",\"type\":\"VBar\"},\"selection_glyph\":null,\"view\":{\"id\":\"2145\",\"type\":\"CDSView\"}},\"id\":\"2144\",\"type\":\"GlyphRenderer\"},{\"attributes\":{\"source\":{\"id\":\"2138\",\"type\":\"ColumnDataSource\"}},\"id\":\"2145\",\"type\":\"CDSView\"},{\"attributes\":{\"callback\":null,\"renderers\":[{\"id\":\"2144\",\"type\":\"GlyphRenderer\"}],\"tags\":[\"hv_created\"],\"tooltips\":[[\"ticker\",\"@{ticker}\"],[\"daily_return\",\"@{daily_return}\"]]},\"id\":\"2107\",\"type\":\"HoverTool\"},{\"attributes\":{},\"id\":\"2118\",\"type\":\"CategoricalTicker\"},{\"attributes\":{\"bottom_units\":\"screen\",\"fill_alpha\":{\"value\":0.5},\"fill_color\":{\"value\":\"lightgrey\"},\"left_units\":\"screen\",\"level\":\"overlay\",\"line_alpha\":{\"value\":1.0},\"line_color\":{\"value\":\"black\"},\"line_dash\":[4,4],\"line_width\":{\"value\":2},\"render_mode\":\"css\",\"right_units\":\"screen\",\"top_units\":\"screen\"},\"id\":\"2155\",\"type\":\"BoxAnnotation\"}],\"root_ids\":[\"2108\"]},\"title\":\"Bokeh Application\",\"version\":\"1.2.0\"}};\n",
       "  var render_items = [{\"docid\":\"cda807d9-09e0-4563-8865-0f87ff1b60c9\",\"roots\":{\"2108\":\"ea19ef26-7d09-4da1-8344-0be26afad439\"}}];\n",
       "  root.Bokeh.embed.embed_items_notebook(docs_json, render_items);\n",
       "\n",
       "  }\n",
       "  if (root.Bokeh !== undefined) {\n",
       "    embed_document(root);\n",
       "  } else {\n",
       "    var attempts = 0;\n",
       "    var timer = setInterval(function(root) {\n",
       "      if (root.Bokeh !== undefined) {\n",
       "        embed_document(root);\n",
       "        clearInterval(timer);\n",
       "      }\n",
       "      attempts++;\n",
       "      if (attempts > 100) {\n",
       "        console.log(\"Bokeh: ERROR: Unable to run BokehJS code because BokehJS library is missing\");\n",
       "        clearInterval(timer);\n",
       "      }\n",
       "    }, 10, root)\n",
       "  }\n",
       "})(window);</script>"
      ],
      "text/plain": [
       ":Bars   [ticker]   (daily_return)"
      ]
     },
     "execution_count": 6,
     "metadata": {
      "application/vnd.holoviews_exec.v0+json": {
       "id": "2108"
      }
     },
     "output_type": "execute_result"
    }
   ],
   "source": [
    "# Use hvplot.bar() to create bar plot with categorical data\n",
    "df.hvplot.bar(\n",
    "    x=\"ticker\", y=\"daily_return\", xlabel=\"Ticker\", ylabel=\"Daily Return\", rot=90\n",
    ")"
   ]
  }
 ],
 "metadata": {
  "file_extension": ".py",
  "kernelspec": {
   "display_name": "Python [conda env:dev]",
   "language": "python",
   "name": "conda-env-dev-py"
  },
  "language_info": {
   "codemirror_mode": {
    "name": "ipython",
    "version": 3
   },
   "file_extension": ".py",
   "mimetype": "text/x-python",
   "name": "python",
   "nbconvert_exporter": "python",
   "pygments_lexer": "ipython3",
   "version": "3.7.11"
  },
  "mimetype": "text/x-python",
  "name": "python",
  "npconvert_exporter": "python",
  "pygments_lexer": "ipython3",
  "version": 3
 },
 "nbformat": 4,
 "nbformat_minor": 4
}

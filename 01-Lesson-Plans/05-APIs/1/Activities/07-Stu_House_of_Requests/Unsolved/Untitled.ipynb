{
 "cells": [
  {
   "cell_type": "code",
   "execution_count": 1,
   "id": "e106dad2-5b34-4a3c-80ba-49954c3c9eb0",
   "metadata": {},
   "outputs": [],
   "source": [
    "import requests\n",
    "import json"
   ]
  },
  {
   "cell_type": "code",
   "execution_count": 4,
   "id": "7f06ffa2-f466-4596-8906-74fce41298a8",
   "metadata": {},
   "outputs": [],
   "source": [
    "create_deck_url = \"https://deckofcardsapi.com/api/deck/new/shuffle/?deck_count=6\"\n",
    "draw_cards_url = \"https://deckofcardsapi.com/api/deck/{deck_id}/draw/?count=2\"\n",
    "shuffle_deck = \"https://deckofcardsapi.com/api/deck/{deck_id}/shuffle/\"\n"
   ]
  },
  {
   "cell_type": "code",
   "execution_count": 7,
   "id": "18936c01-9c6e-443f-875d-5036b7c0b7ca",
   "metadata": {},
   "outputs": [
    {
     "ename": "SyntaxError",
     "evalue": "invalid syntax (1010319632.py, line 2)",
     "output_type": "error",
     "traceback": [
      "\u001b[0;36m  File \u001b[0;32m\"/var/folders/d3/zhlv7h4167b7496bj0z9qfn00000gn/T/ipykernel_3920/1010319632.py\"\u001b[0;36m, line \u001b[0;32m2\u001b[0m\n\u001b[0;31m    response data\u001b[0m\n\u001b[0m                ^\u001b[0m\n\u001b[0;31mSyntaxError\u001b[0m\u001b[0;31m:\u001b[0m invalid syntax\n"
     ]
    }
   ],
   "source": [
    "response_data = requests.get(create_deck_url).json()\n",
    "\n"
   ]
  },
  {
   "cell_type": "code",
   "execution_count": null,
   "id": "80d60500-b1f5-4594-bcfa-433c4dedca21",
   "metadata": {},
   "outputs": [],
   "source": []
  }
 ],
 "metadata": {
  "kernelspec": {
   "display_name": "Python 3 (ipykernel)",
   "language": "python",
   "name": "python3"
  },
  "language_info": {
   "codemirror_mode": {
    "name": "ipython",
    "version": 3
   },
   "file_extension": ".py",
   "mimetype": "text/x-python",
   "name": "python",
   "nbconvert_exporter": "python",
   "pygments_lexer": "ipython3",
   "version": "3.7.11"
  }
 },
 "nbformat": 4,
 "nbformat_minor": 5
}

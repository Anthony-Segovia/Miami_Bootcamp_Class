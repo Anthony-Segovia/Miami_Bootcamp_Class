{
 "cells": [
  {
   "cell_type": "code",
   "execution_count": 5,
   "id": "25f4068a-aa35-4bac-9aa5-b054d5fa35af",
   "metadata": {},
   "outputs": [],
   "source": [
    "import requests"
   ]
  },
  {
   "cell_type": "code",
   "execution_count": 9,
   "id": "623cd674-3b95-41d3-9396-c5fc5bb21846",
   "metadata": {},
   "outputs": [],
   "source": [
    "url = \"https://cat-fact.herokuapp.com/facts\""
   ]
  },
  {
   "cell_type": "code",
   "execution_count": 10,
   "id": "103a6ca3-6461-45be-a76f-41a90dfbb88e",
   "metadata": {},
   "outputs": [],
   "source": [
    "url = url + \"?format=json\""
   ]
  },
  {
   "cell_type": "code",
   "execution_count": 11,
   "id": "f6942485-02e4-4d9e-aac7-16f7419e8320",
   "metadata": {},
   "outputs": [
    {
     "data": {
      "text/plain": [
       "<Response [200]>"
      ]
     },
     "execution_count": 11,
     "metadata": {},
     "output_type": "execute_result"
    }
   ],
   "source": [
    "requests.get(url)"
   ]
  },
  {
   "cell_type": "code",
   "execution_count": 12,
   "id": "e4ca4b2c-5a60-4750-9a48-9b66c3efbff9",
   "metadata": {},
   "outputs": [],
   "source": [
    "response_data = requests.get(url)"
   ]
  },
  {
   "cell_type": "code",
   "execution_count": 13,
   "id": "661bdc20-7bdd-44bd-9fcf-dc5beef78ec2",
   "metadata": {},
   "outputs": [
    {
     "name": "stdout",
     "output_type": "stream",
     "text": [
      "b'[{\"status\":{\"verified\":true,\"sentCount\":1},\"_id\":\"58e008800aac31001185ed07\",\"user\":\"58e007480aac31001185ecef\",\"text\":\"Wikipedia has a recording of a cat meowing, because why not?\",\"__v\":0,\"source\":\"user\",\"updatedAt\":\"2020-08-23T20:20:01.611Z\",\"type\":\"cat\",\"createdAt\":\"2018-03-06T21:20:03.505Z\",\"deleted\":false,\"used\":false},{\"status\":{\"verified\":true,\"sentCount\":1},\"_id\":\"58e008630aac31001185ed01\",\"user\":\"58e007480aac31001185ecef\",\"text\":\"When cats grimace, they are usually \\\\\"taste-scenting.\\\\\" They have an extra organ that, with some breathing control, allows the cats to taste-sense the air.\",\"__v\":0,\"source\":\"user\",\"updatedAt\":\"2020-08-23T20:20:01.611Z\",\"type\":\"cat\",\"createdAt\":\"2018-02-07T21:20:02.903Z\",\"deleted\":false,\"used\":false},{\"status\":{\"verified\":true,\"sentCount\":1},\"_id\":\"58e00a090aac31001185ed16\",\"user\":\"58e007480aac31001185ecef\",\"text\":\"Cats make more than 100 different sounds whereas dogs make around 10.\",\"__v\":0,\"source\":\"user\",\"updatedAt\":\"2020-08-23T20:20:01.611Z\",\"type\":\"cat\",\"createdAt\":\"2018-02-11T21:20:03.745Z\",\"deleted\":false,\"used\":false},{\"status\":{\"verified\":true,\"sentCount\":1},\"_id\":\"58e009390aac31001185ed10\",\"user\":\"58e007480aac31001185ecef\",\"text\":\"Most cats are lactose intolerant, and milk can cause painful stomach cramps and diarrhea. It\\'s best to forego the milk and just give your cat the standard: clean, cool drinking water.\",\"__v\":0,\"source\":\"user\",\"updatedAt\":\"2020-08-23T20:20:01.611Z\",\"type\":\"cat\",\"createdAt\":\"2018-03-04T21:20:02.979Z\",\"deleted\":false,\"used\":false},{\"status\":{\"verified\":true,\"sentCount\":1},\"_id\":\"58e008780aac31001185ed05\",\"user\":\"58e007480aac31001185ecef\",\"text\":\"Owning a cat can reduce the risk of stroke and heart attack by a third.\",\"__v\":0,\"source\":\"user\",\"updatedAt\":\"2020-08-23T20:20:01.611Z\",\"type\":\"cat\",\"createdAt\":\"2018-03-29T20:20:03.844Z\",\"deleted\":false,\"used\":false}]'\n"
     ]
    }
   ],
   "source": [
    "response_content = response_data.content\n",
    "print(response_content)"
   ]
  },
  {
   "cell_type": "code",
   "execution_count": 14,
   "id": "9909465b-1f0f-424e-a5ab-7b920d3a66f5",
   "metadata": {},
   "outputs": [],
   "source": [
    "import json\n"
   ]
  },
  {
   "cell_type": "code",
   "execution_count": 15,
   "id": "bab60f19-a29c-4689-9494-c1fd3dac7e6f",
   "metadata": {},
   "outputs": [],
   "source": [
    "data = response_data.json()"
   ]
  },
  {
   "cell_type": "code",
   "execution_count": 16,
   "id": "bfa3afcc-74f8-4441-8a23-faec90ee7110",
   "metadata": {},
   "outputs": [
    {
     "name": "stdout",
     "output_type": "stream",
     "text": [
      "[\n",
      "    {\n",
      "        \"status\": {\n",
      "            \"verified\": true,\n",
      "            \"sentCount\": 1\n",
      "        },\n",
      "        \"_id\": \"58e008800aac31001185ed07\",\n",
      "        \"user\": \"58e007480aac31001185ecef\",\n",
      "        \"text\": \"Wikipedia has a recording of a cat meowing, because why not?\",\n",
      "        \"__v\": 0,\n",
      "        \"source\": \"user\",\n",
      "        \"updatedAt\": \"2020-08-23T20:20:01.611Z\",\n",
      "        \"type\": \"cat\",\n",
      "        \"createdAt\": \"2018-03-06T21:20:03.505Z\",\n",
      "        \"deleted\": false,\n",
      "        \"used\": false\n",
      "    },\n",
      "    {\n",
      "        \"status\": {\n",
      "            \"verified\": true,\n",
      "            \"sentCount\": 1\n",
      "        },\n",
      "        \"_id\": \"58e008630aac31001185ed01\",\n",
      "        \"user\": \"58e007480aac31001185ecef\",\n",
      "        \"text\": \"When cats grimace, they are usually \\\"taste-scenting.\\\" They have an extra organ that, with some breathing control, allows the cats to taste-sense the air.\",\n",
      "        \"__v\": 0,\n",
      "        \"source\": \"user\",\n",
      "        \"updatedAt\": \"2020-08-23T20:20:01.611Z\",\n",
      "        \"type\": \"cat\",\n",
      "        \"createdAt\": \"2018-02-07T21:20:02.903Z\",\n",
      "        \"deleted\": false,\n",
      "        \"used\": false\n",
      "    },\n",
      "    {\n",
      "        \"status\": {\n",
      "            \"verified\": true,\n",
      "            \"sentCount\": 1\n",
      "        },\n",
      "        \"_id\": \"58e00a090aac31001185ed16\",\n",
      "        \"user\": \"58e007480aac31001185ecef\",\n",
      "        \"text\": \"Cats make more than 100 different sounds whereas dogs make around 10.\",\n",
      "        \"__v\": 0,\n",
      "        \"source\": \"user\",\n",
      "        \"updatedAt\": \"2020-08-23T20:20:01.611Z\",\n",
      "        \"type\": \"cat\",\n",
      "        \"createdAt\": \"2018-02-11T21:20:03.745Z\",\n",
      "        \"deleted\": false,\n",
      "        \"used\": false\n",
      "    },\n",
      "    {\n",
      "        \"status\": {\n",
      "            \"verified\": true,\n",
      "            \"sentCount\": 1\n",
      "        },\n",
      "        \"_id\": \"58e009390aac31001185ed10\",\n",
      "        \"user\": \"58e007480aac31001185ecef\",\n",
      "        \"text\": \"Most cats are lactose intolerant, and milk can cause painful stomach cramps and diarrhea. It's best to forego the milk and just give your cat the standard: clean, cool drinking water.\",\n",
      "        \"__v\": 0,\n",
      "        \"source\": \"user\",\n",
      "        \"updatedAt\": \"2020-08-23T20:20:01.611Z\",\n",
      "        \"type\": \"cat\",\n",
      "        \"createdAt\": \"2018-03-04T21:20:02.979Z\",\n",
      "        \"deleted\": false,\n",
      "        \"used\": false\n",
      "    },\n",
      "    {\n",
      "        \"status\": {\n",
      "            \"verified\": true,\n",
      "            \"sentCount\": 1\n",
      "        },\n",
      "        \"_id\": \"58e008780aac31001185ed05\",\n",
      "        \"user\": \"58e007480aac31001185ecef\",\n",
      "        \"text\": \"Owning a cat can reduce the risk of stroke and heart attack by a third.\",\n",
      "        \"__v\": 0,\n",
      "        \"source\": \"user\",\n",
      "        \"updatedAt\": \"2020-08-23T20:20:01.611Z\",\n",
      "        \"type\": \"cat\",\n",
      "        \"createdAt\": \"2018-03-29T20:20:03.844Z\",\n",
      "        \"deleted\": false,\n",
      "        \"used\": false\n",
      "    }\n",
      "]\n"
     ]
    }
   ],
   "source": [
    "print(json.dumps(data, indent=4))"
   ]
  },
  {
   "cell_type": "code",
   "execution_count": 20,
   "id": "cc82a552-baf3-451e-9e08-489d1ccc569c",
   "metadata": {},
   "outputs": [
    {
     "name": "stdout",
     "output_type": "stream",
     "text": [
      "text: When cats grimace, they are usually \"taste-scenting.\" They have an extra organ that, with some breathing control, allows the cats to taste-sense the air.\n"
     ]
    }
   ],
   "source": [
    "text = data[1]['text']\n",
    "print(\"text: \" + text)\n"
   ]
  },
  {
   "cell_type": "code",
   "execution_count": null,
   "id": "f5a2c9bc-73cd-428c-85f4-8df291b4189c",
   "metadata": {},
   "outputs": [],
   "source": []
  }
 ],
 "metadata": {
  "kernelspec": {
   "display_name": "Python 3 (ipykernel)",
   "language": "python",
   "name": "python3"
  },
  "language_info": {
   "codemirror_mode": {
    "name": "ipython",
    "version": 3
   },
   "file_extension": ".py",
   "mimetype": "text/x-python",
   "name": "python",
   "nbconvert_exporter": "python",
   "pygments_lexer": "ipython3",
   "version": "3.7.11"
  }
 },
 "nbformat": 4,
 "nbformat_minor": 5
}

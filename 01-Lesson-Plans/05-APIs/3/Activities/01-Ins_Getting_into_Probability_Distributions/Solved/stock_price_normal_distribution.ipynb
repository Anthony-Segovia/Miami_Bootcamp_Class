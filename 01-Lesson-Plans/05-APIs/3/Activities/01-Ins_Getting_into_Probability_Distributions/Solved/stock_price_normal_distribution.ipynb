{
 "cells": [
  {
   "cell_type": "markdown",
   "metadata": {},
   "source": [
    "# Demo: Normal Distribution of Stock Ticker Data\n",
    "\n",
    "This program retrieves stock price data using the Alpaca API and plots the data using Pandas. These plots demonstrate the distribution of daily stock closing prices compared to the expected normal probability distribution. "
   ]
  },
  {
   "cell_type": "markdown",
   "metadata": {},
   "source": [
    "## Import Dependencies"
   ]
  },
  {
   "cell_type": "code",
   "execution_count": 7,
   "metadata": {
    "tags": []
   },
   "outputs": [],
   "source": [
    "# Import libraries and dependencies\n",
    "import os\n",
    "import pandas as pd\n",
    "import alpaca_trade_api as tradeapi\n",
    "\n",
    "# Load .env environment variables\n",
    "from dotenv import load_dotenv\n",
    "load_dotenv(\"keys.env\")\n",
    "\n",
    "%matplotlib inline"
   ]
  },
  {
   "cell_type": "code",
   "execution_count": 9,
   "metadata": {
    "tags": []
   },
   "outputs": [],
   "source": [
    "# Set Alpaca API key and secret\n",
    "alpaca_api_key = os.getenv(\"ALPACA_API_KEY\")\n",
    "alpaca_secret_key = os.getenv(\"ALPACA_SECRET_KEY\")\n",
    "\n",
    "# Create the Alpaca API object\n",
    "alpaca = tradeapi.REST(\n",
    "    alpaca_api_key,\n",
    "    alpaca_secret_key,\n",
    "    api_version=\"v2\"\n",
    ")"
   ]
  },
  {
   "cell_type": "markdown",
   "metadata": {},
   "source": [
    "## Get 1 Year's Worth of Stock Price Data via Alpaca API Call and Read in as DataFrame "
   ]
  },
  {
   "cell_type": "code",
   "execution_count": 10,
   "metadata": {},
   "outputs": [
    {
     "data": {
      "text/html": [
       "<div>\n",
       "<style scoped>\n",
       "    .dataframe tbody tr th:only-of-type {\n",
       "        vertical-align: middle;\n",
       "    }\n",
       "\n",
       "    .dataframe tbody tr th {\n",
       "        vertical-align: top;\n",
       "    }\n",
       "\n",
       "    .dataframe thead tr th {\n",
       "        text-align: left;\n",
       "    }\n",
       "\n",
       "    .dataframe thead tr:last-of-type th {\n",
       "        text-align: right;\n",
       "    }\n",
       "</style>\n",
       "<table border=\"1\" class=\"dataframe\">\n",
       "  <thead>\n",
       "    <tr>\n",
       "      <th></th>\n",
       "      <th colspan=\"5\" halign=\"left\">KO</th>\n",
       "      <th colspan=\"5\" halign=\"left\">TSLA</th>\n",
       "    </tr>\n",
       "    <tr>\n",
       "      <th></th>\n",
       "      <th>open</th>\n",
       "      <th>high</th>\n",
       "      <th>low</th>\n",
       "      <th>close</th>\n",
       "      <th>volume</th>\n",
       "      <th>open</th>\n",
       "      <th>high</th>\n",
       "      <th>low</th>\n",
       "      <th>close</th>\n",
       "      <th>volume</th>\n",
       "    </tr>\n",
       "    <tr>\n",
       "      <th>time</th>\n",
       "      <th></th>\n",
       "      <th></th>\n",
       "      <th></th>\n",
       "      <th></th>\n",
       "      <th></th>\n",
       "      <th></th>\n",
       "      <th></th>\n",
       "      <th></th>\n",
       "      <th></th>\n",
       "      <th></th>\n",
       "    </tr>\n",
       "  </thead>\n",
       "  <tbody>\n",
       "    <tr>\n",
       "      <th>2019-05-01 00:00:00-04:00</th>\n",
       "      <td>48.95</td>\n",
       "      <td>49.0750</td>\n",
       "      <td>48.55</td>\n",
       "      <td>48.58</td>\n",
       "      <td>8497194</td>\n",
       "      <td>239.00</td>\n",
       "      <td>240.0000</td>\n",
       "      <td>231.5000</td>\n",
       "      <td>234.010</td>\n",
       "      <td>10324457</td>\n",
       "    </tr>\n",
       "    <tr>\n",
       "      <th>2019-05-02 00:00:00-04:00</th>\n",
       "      <td>48.53</td>\n",
       "      <td>48.7657</td>\n",
       "      <td>48.27</td>\n",
       "      <td>48.40</td>\n",
       "      <td>7045641</td>\n",
       "      <td>245.52</td>\n",
       "      <td>247.1300</td>\n",
       "      <td>237.7200</td>\n",
       "      <td>244.080</td>\n",
       "      <td>14881930</td>\n",
       "    </tr>\n",
       "    <tr>\n",
       "      <th>2019-05-03 00:00:00-04:00</th>\n",
       "      <td>48.60</td>\n",
       "      <td>48.9600</td>\n",
       "      <td>48.52</td>\n",
       "      <td>48.72</td>\n",
       "      <td>5839237</td>\n",
       "      <td>243.86</td>\n",
       "      <td>256.6100</td>\n",
       "      <td>243.4900</td>\n",
       "      <td>255.040</td>\n",
       "      <td>21063497</td>\n",
       "    </tr>\n",
       "    <tr>\n",
       "      <th>2019-05-06 00:00:00-04:00</th>\n",
       "      <td>48.33</td>\n",
       "      <td>48.6100</td>\n",
       "      <td>48.26</td>\n",
       "      <td>48.48</td>\n",
       "      <td>6740245</td>\n",
       "      <td>250.10</td>\n",
       "      <td>258.3499</td>\n",
       "      <td>248.5000</td>\n",
       "      <td>255.335</td>\n",
       "      <td>9546203</td>\n",
       "    </tr>\n",
       "    <tr>\n",
       "      <th>2019-05-07 00:00:00-04:00</th>\n",
       "      <td>48.23</td>\n",
       "      <td>48.2900</td>\n",
       "      <td>47.77</td>\n",
       "      <td>48.00</td>\n",
       "      <td>8795261</td>\n",
       "      <td>256.80</td>\n",
       "      <td>257.2100</td>\n",
       "      <td>245.1000</td>\n",
       "      <td>247.060</td>\n",
       "      <td>9542822</td>\n",
       "    </tr>\n",
       "    <tr>\n",
       "      <th>2019-05-08 00:00:00-04:00</th>\n",
       "      <td>48.05</td>\n",
       "      <td>48.2300</td>\n",
       "      <td>47.82</td>\n",
       "      <td>47.85</td>\n",
       "      <td>7457062</td>\n",
       "      <td>246.94</td>\n",
       "      <td>250.5990</td>\n",
       "      <td>244.2000</td>\n",
       "      <td>244.760</td>\n",
       "      <td>5757805</td>\n",
       "    </tr>\n",
       "    <tr>\n",
       "      <th>2019-05-09 00:00:00-04:00</th>\n",
       "      <td>47.80</td>\n",
       "      <td>47.9800</td>\n",
       "      <td>47.07</td>\n",
       "      <td>47.40</td>\n",
       "      <td>9460182</td>\n",
       "      <td>242.00</td>\n",
       "      <td>243.6800</td>\n",
       "      <td>236.9434</td>\n",
       "      <td>241.980</td>\n",
       "      <td>6455536</td>\n",
       "    </tr>\n",
       "    <tr>\n",
       "      <th>2019-05-10 00:00:00-04:00</th>\n",
       "      <td>47.41</td>\n",
       "      <td>48.2950</td>\n",
       "      <td>47.40</td>\n",
       "      <td>48.20</td>\n",
       "      <td>7864053</td>\n",
       "      <td>239.75</td>\n",
       "      <td>241.9900</td>\n",
       "      <td>236.0200</td>\n",
       "      <td>239.510</td>\n",
       "      <td>6716345</td>\n",
       "    </tr>\n",
       "    <tr>\n",
       "      <th>2019-05-13 00:00:00-04:00</th>\n",
       "      <td>47.91</td>\n",
       "      <td>48.1300</td>\n",
       "      <td>47.73</td>\n",
       "      <td>48.05</td>\n",
       "      <td>8533003</td>\n",
       "      <td>232.01</td>\n",
       "      <td>232.4700</td>\n",
       "      <td>224.5000</td>\n",
       "      <td>227.010</td>\n",
       "      <td>10159046</td>\n",
       "    </tr>\n",
       "    <tr>\n",
       "      <th>2019-05-14 00:00:00-04:00</th>\n",
       "      <td>48.53</td>\n",
       "      <td>49.3200</td>\n",
       "      <td>48.35</td>\n",
       "      <td>48.68</td>\n",
       "      <td>11258616</td>\n",
       "      <td>229.30</td>\n",
       "      <td>234.5000</td>\n",
       "      <td>228.0000</td>\n",
       "      <td>232.120</td>\n",
       "      <td>6820595</td>\n",
       "    </tr>\n",
       "  </tbody>\n",
       "</table>\n",
       "</div>"
      ],
      "text/plain": [
       "                              KO                                     TSLA  \\\n",
       "                            open     high    low  close    volume    open   \n",
       "time                                                                        \n",
       "2019-05-01 00:00:00-04:00  48.95  49.0750  48.55  48.58   8497194  239.00   \n",
       "2019-05-02 00:00:00-04:00  48.53  48.7657  48.27  48.40   7045641  245.52   \n",
       "2019-05-03 00:00:00-04:00  48.60  48.9600  48.52  48.72   5839237  243.86   \n",
       "2019-05-06 00:00:00-04:00  48.33  48.6100  48.26  48.48   6740245  250.10   \n",
       "2019-05-07 00:00:00-04:00  48.23  48.2900  47.77  48.00   8795261  256.80   \n",
       "2019-05-08 00:00:00-04:00  48.05  48.2300  47.82  47.85   7457062  246.94   \n",
       "2019-05-09 00:00:00-04:00  47.80  47.9800  47.07  47.40   9460182  242.00   \n",
       "2019-05-10 00:00:00-04:00  47.41  48.2950  47.40  48.20   7864053  239.75   \n",
       "2019-05-13 00:00:00-04:00  47.91  48.1300  47.73  48.05   8533003  232.01   \n",
       "2019-05-14 00:00:00-04:00  48.53  49.3200  48.35  48.68  11258616  229.30   \n",
       "\n",
       "                                                                  \n",
       "                               high       low    close    volume  \n",
       "time                                                              \n",
       "2019-05-01 00:00:00-04:00  240.0000  231.5000  234.010  10324457  \n",
       "2019-05-02 00:00:00-04:00  247.1300  237.7200  244.080  14881930  \n",
       "2019-05-03 00:00:00-04:00  256.6100  243.4900  255.040  21063497  \n",
       "2019-05-06 00:00:00-04:00  258.3499  248.5000  255.335   9546203  \n",
       "2019-05-07 00:00:00-04:00  257.2100  245.1000  247.060   9542822  \n",
       "2019-05-08 00:00:00-04:00  250.5990  244.2000  244.760   5757805  \n",
       "2019-05-09 00:00:00-04:00  243.6800  236.9434  241.980   6455536  \n",
       "2019-05-10 00:00:00-04:00  241.9900  236.0200  239.510   6716345  \n",
       "2019-05-13 00:00:00-04:00  232.4700  224.5000  227.010  10159046  \n",
       "2019-05-14 00:00:00-04:00  234.5000  228.0000  232.120   6820595  "
      ]
     },
     "execution_count": 10,
     "metadata": {},
     "output_type": "execute_result"
    }
   ],
   "source": [
    "# Set the Tesla and Coca-Cola tickers\n",
    "ticker = [\"TSLA\",\"KO\"]\n",
    "\n",
    "# Set timeframe to '1D'\n",
    "timeframe = \"1D\"\n",
    "\n",
    "# Set start and end datetimes of 1 year, between now and 365 days ago.\n",
    "start_date = pd.Timestamp(\"2019-05-01\", tz=\"America/New_York\").isoformat()\n",
    "end_date = pd.Timestamp(\"2020-05-01\", tz=\"America/New_York\").isoformat()\n",
    "\n",
    "# Get 1 year's worth of historical data for Tesla and Coca-Cola\n",
    "df_ticker = alpaca.get_barset(\n",
    "    ticker,\n",
    "    timeframe,\n",
    "    start=start_date,\n",
    "    end=end_date,\n",
    "    limit=1000,\n",
    ").df\n",
    "\n",
    "# Display sample data\n",
    "df_ticker.head(10)"
   ]
  },
  {
   "cell_type": "markdown",
   "metadata": {},
   "source": [
    "## Pick closing prices and compute the daily returns"
   ]
  },
  {
   "cell_type": "code",
   "execution_count": 12,
   "metadata": {},
   "outputs": [
    {
     "data": {
      "text/html": [
       "<div>\n",
       "<style scoped>\n",
       "    .dataframe tbody tr th:only-of-type {\n",
       "        vertical-align: middle;\n",
       "    }\n",
       "\n",
       "    .dataframe tbody tr th {\n",
       "        vertical-align: top;\n",
       "    }\n",
       "\n",
       "    .dataframe thead th {\n",
       "        text-align: right;\n",
       "    }\n",
       "</style>\n",
       "<table border=\"1\" class=\"dataframe\">\n",
       "  <thead>\n",
       "    <tr style=\"text-align: right;\">\n",
       "      <th></th>\n",
       "      <th>KO</th>\n",
       "      <th>TSLA</th>\n",
       "    </tr>\n",
       "  </thead>\n",
       "  <tbody>\n",
       "    <tr>\n",
       "      <th>2019-05-02</th>\n",
       "      <td>-0.003705</td>\n",
       "      <td>0.043032</td>\n",
       "    </tr>\n",
       "    <tr>\n",
       "      <th>2019-05-03</th>\n",
       "      <td>0.006612</td>\n",
       "      <td>0.044903</td>\n",
       "    </tr>\n",
       "    <tr>\n",
       "      <th>2019-05-06</th>\n",
       "      <td>-0.004926</td>\n",
       "      <td>0.001157</td>\n",
       "    </tr>\n",
       "    <tr>\n",
       "      <th>2019-05-07</th>\n",
       "      <td>-0.009901</td>\n",
       "      <td>-0.032408</td>\n",
       "    </tr>\n",
       "    <tr>\n",
       "      <th>2019-05-08</th>\n",
       "      <td>-0.003125</td>\n",
       "      <td>-0.009309</td>\n",
       "    </tr>\n",
       "    <tr>\n",
       "      <th>2019-05-09</th>\n",
       "      <td>-0.009404</td>\n",
       "      <td>-0.011358</td>\n",
       "    </tr>\n",
       "    <tr>\n",
       "      <th>2019-05-10</th>\n",
       "      <td>0.016878</td>\n",
       "      <td>-0.010207</td>\n",
       "    </tr>\n",
       "    <tr>\n",
       "      <th>2019-05-13</th>\n",
       "      <td>-0.003112</td>\n",
       "      <td>-0.052190</td>\n",
       "    </tr>\n",
       "    <tr>\n",
       "      <th>2019-05-14</th>\n",
       "      <td>0.013111</td>\n",
       "      <td>0.022510</td>\n",
       "    </tr>\n",
       "    <tr>\n",
       "      <th>2019-05-15</th>\n",
       "      <td>0.010682</td>\n",
       "      <td>-0.000862</td>\n",
       "    </tr>\n",
       "  </tbody>\n",
       "</table>\n",
       "</div>"
      ],
      "text/plain": [
       "                  KO      TSLA\n",
       "2019-05-02 -0.003705  0.043032\n",
       "2019-05-03  0.006612  0.044903\n",
       "2019-05-06 -0.004926  0.001157\n",
       "2019-05-07 -0.009901 -0.032408\n",
       "2019-05-08 -0.003125 -0.009309\n",
       "2019-05-09 -0.009404 -0.011358\n",
       "2019-05-10  0.016878 -0.010207\n",
       "2019-05-13 -0.003112 -0.052190\n",
       "2019-05-14  0.013111  0.022510\n",
       "2019-05-15  0.010682 -0.000862"
      ]
     },
     "execution_count": 12,
     "metadata": {},
     "output_type": "execute_result"
    }
   ],
   "source": [
    "# Create and empty DataFrame for closing prices\n",
    "df_closing_prices = pd.DataFrame()\n",
    "\n",
    "# Fetch the closing prices of KO and TSLA\n",
    "df_closing_prices[\"KO\"] = df_ticker[\"KO\"][\"close\"]\n",
    "df_closing_prices[\"TSLA\"] = df_ticker[\"TSLA\"][\"close\"]\n",
    "\n",
    "# Drop the time component of the date\n",
    "df_closing_prices.index = df_closing_prices.index.date\n",
    "\n",
    "# Compute daily returns\n",
    "df_daily_returns = df_closing_prices.pct_change().dropna()\n",
    "\n",
    "# Display sample data\n",
    "df_daily_returns.head(10)"
   ]
  },
  {
   "cell_type": "code",
   "execution_count": 13,
   "metadata": {},
   "outputs": [
    {
     "data": {
      "text/html": [
       "<div>\n",
       "<style scoped>\n",
       "    .dataframe tbody tr th:only-of-type {\n",
       "        vertical-align: middle;\n",
       "    }\n",
       "\n",
       "    .dataframe tbody tr th {\n",
       "        vertical-align: top;\n",
       "    }\n",
       "\n",
       "    .dataframe thead th {\n",
       "        text-align: right;\n",
       "    }\n",
       "</style>\n",
       "<table border=\"1\" class=\"dataframe\">\n",
       "  <thead>\n",
       "    <tr style=\"text-align: right;\">\n",
       "      <th></th>\n",
       "      <th>KO</th>\n",
       "      <th>TSLA</th>\n",
       "    </tr>\n",
       "  </thead>\n",
       "  <tbody>\n",
       "    <tr>\n",
       "      <th>count</th>\n",
       "      <td>253.000000</td>\n",
       "      <td>253.000000</td>\n",
       "    </tr>\n",
       "    <tr>\n",
       "      <th>mean</th>\n",
       "      <td>-0.000058</td>\n",
       "      <td>0.005518</td>\n",
       "    </tr>\n",
       "    <tr>\n",
       "      <th>std</th>\n",
       "      <td>0.019504</td>\n",
       "      <td>0.048435</td>\n",
       "    </tr>\n",
       "    <tr>\n",
       "      <th>min</th>\n",
       "      <td>-0.096821</td>\n",
       "      <td>-0.185317</td>\n",
       "    </tr>\n",
       "    <tr>\n",
       "      <th>25%</th>\n",
       "      <td>-0.006757</td>\n",
       "      <td>-0.011358</td>\n",
       "    </tr>\n",
       "    <tr>\n",
       "      <th>50%</th>\n",
       "      <td>0.000192</td>\n",
       "      <td>0.004117</td>\n",
       "    </tr>\n",
       "    <tr>\n",
       "      <th>75%</th>\n",
       "      <td>0.006758</td>\n",
       "      <td>0.024267</td>\n",
       "    </tr>\n",
       "    <tr>\n",
       "      <th>max</th>\n",
       "      <td>0.063191</td>\n",
       "      <td>0.199545</td>\n",
       "    </tr>\n",
       "  </tbody>\n",
       "</table>\n",
       "</div>"
      ],
      "text/plain": [
       "               KO        TSLA\n",
       "count  253.000000  253.000000\n",
       "mean    -0.000058    0.005518\n",
       "std      0.019504    0.048435\n",
       "min     -0.096821   -0.185317\n",
       "25%     -0.006757   -0.011358\n",
       "50%      0.000192    0.004117\n",
       "75%      0.006758    0.024267\n",
       "max      0.063191    0.199545"
      ]
     },
     "execution_count": 13,
     "metadata": {},
     "output_type": "execute_result"
    }
   ],
   "source": [
    "# Generate descriptive statistics\n",
    "df_daily_returns.describe()"
   ]
  },
  {
   "cell_type": "markdown",
   "metadata": {},
   "source": [
    "### Plot Distributions"
   ]
  },
  {
   "cell_type": "code",
   "execution_count": 14,
   "metadata": {},
   "outputs": [
    {
     "data": {
      "text/plain": [
       "<AxesSubplot:ylabel='Frequency'>"
      ]
     },
     "execution_count": 14,
     "metadata": {},
     "output_type": "execute_result"
    },
    {
     "data": {
      "image/png": "[encoded data removed]",
      "text/plain": [
       "<Figure size 432x288 with 1 Axes>"
      ]
     },
     "metadata": {
      "needs_background": "light"
     },
     "output_type": "display_data"
    }
   ],
   "source": [
    "# Visualize distribution of Tesla percent change in closing price using a histogram plot\n",
    "df_daily_returns[\"TSLA\"].plot.hist()"
   ]
  },
  {
   "cell_type": "code",
   "execution_count": 15,
   "metadata": {},
   "outputs": [
    {
     "data": {
      "text/plain": [
       "<AxesSubplot:ylabel='Frequency'>"
      ]
     },
     "execution_count": 15,
     "metadata": {},
     "output_type": "execute_result"
    },
    {
     "data": {
      "image/png": "[encoded data removed]",
      "text/plain": [
       "<Figure size 432x288 with 1 Axes>"
      ]
     },
     "metadata": {
      "needs_background": "light"
     },
     "output_type": "display_data"
    }
   ],
   "source": [
    "# Visualize distribution of Coca-Cola percent change in closing price using a histogram plot\n",
    "df_daily_returns[\"KO\"].plot.hist()"
   ]
  },
  {
   "cell_type": "code",
   "execution_count": 17,
   "metadata": {},
   "outputs": [
    {
     "data": {
      "text/plain": [
       "<AxesSubplot:ylabel='Density'>"
      ]
     },
     "execution_count": 17,
     "metadata": {},
     "output_type": "execute_result"
    },
    {
     "data": {
      "image/png": "[encoded data removed]",
      "text/plain": [
       "<Figure size 432x288 with 1 Axes>"
      ]
     },
     "metadata": {
      "needs_background": "light"
     },
     "output_type": "display_data"
    }
   ],
   "source": [
    "# Visualize the distribution of percent change in closing price for both stocks using a density plot\n",
    "df_daily_returns.plot.density()"
   ]
  },
  {
   "cell_type": "code",
   "execution_count": null,
   "metadata": {},
   "outputs": [],
   "source": []
  }
 ],
 "metadata": {
  "kernel_info": {
   "name": "python3"
  },
  "kernelspec": {
   "display_name": "Python 3 (ipykernel)",
   "language": "python",
   "name": "python3"
  },
  "language_info": {
   "codemirror_mode": {
    "name": "ipython",
    "version": 3
   },
   "file_extension": ".py",
   "mimetype": "text/x-python",
   "name": "python",
   "nbconvert_exporter": "python",
   "pygments_lexer": "ipython3",
   "version": "3.7.11"
  },
  "nteract": {
   "version": "0.12.3"
  }
 },
 "nbformat": 4,
 "nbformat_minor": 4
}
